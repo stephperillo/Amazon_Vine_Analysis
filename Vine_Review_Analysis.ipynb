{
  "nbformat": 4,
  "nbformat_minor": 0,
  "metadata": {
    "colab": {
      "name": "Vine_Review_Analysis.ipynb",
      "provenance": [],
      "collapsed_sections": []
    },
    "kernelspec": {
      "name": "python3",
      "display_name": "Python 3"
    },
    "language_info": {
      "name": "python"
    }
  },
  "cells": [
    {
      "cell_type": "code",
      "source": [
        "import os\n",
        "# Find the latest version of spark 3.0  from http://www.apache.org/dist/spark/ and enter as the spark version\n",
        "# For example:\n",
        "# spark_version = 'spark-3.0.3'\n",
        "spark_version = 'spark-3.2.1'\n",
        "os.environ['SPARK_VERSION']=spark_version\n",
        "\n",
        "# Install Spark and Java\n",
        "!apt-get update\n",
        "!apt-get install openjdk-11-jdk-headless -qq > /dev/null\n",
        "!wget -q http://www.apache.org/dist/spark/$SPARK_VERSION/$SPARK_VERSION-bin-hadoop2.7.tgz\n",
        "!tar xf $SPARK_VERSION-bin-hadoop2.7.tgz\n",
        "!pip install -q findspark\n",
        "\n",
        "# Set Environment Variables\n",
        "os.environ[\"JAVA_HOME\"] = \"/usr/lib/jvm/java-11-openjdk-amd64\"\n",
        "os.environ[\"SPARK_HOME\"] = f\"/content/{spark_version}-bin-hadoop2.7\"\n",
        "\n",
        "# Start a SparkSession\n",
        "import findspark\n",
        "findspark.init()"
      ],
      "metadata": {
        "colab": {
          "base_uri": "https://localhost:8080/"
        },
        "id": "alzzqM_od6WG",
        "outputId": "b45c03a7-64c1-4fdb-cfaa-5b08c1c82750"
      },
      "execution_count": null,
      "outputs": [
        {
          "output_type": "stream",
          "name": "stdout",
          "text": [
            "Hit:1 https://developer.download.nvidia.com/compute/cuda/repos/ubuntu1804/x86_64  InRelease\n",
            "Hit:2 https://cloud.r-project.org/bin/linux/ubuntu bionic-cran40/ InRelease\n",
            "Get:3 http://security.ubuntu.com/ubuntu bionic-security InRelease [88.7 kB]\n",
            "Ign:4 https://developer.download.nvidia.com/compute/machine-learning/repos/ubuntu1804/x86_64  InRelease\n",
            "Hit:5 https://developer.download.nvidia.com/compute/machine-learning/repos/ubuntu1804/x86_64  Release\n",
            "Hit:6 http://ppa.launchpad.net/c2d4u.team/c2d4u4.0+/ubuntu bionic InRelease\n",
            "Hit:7 http://archive.ubuntu.com/ubuntu bionic InRelease\n",
            "Get:9 http://archive.ubuntu.com/ubuntu bionic-updates InRelease [88.7 kB]\n",
            "Hit:10 http://ppa.launchpad.net/cran/libgit2/ubuntu bionic InRelease\n",
            "Hit:11 http://ppa.launchpad.net/deadsnakes/ppa/ubuntu bionic InRelease\n",
            "Get:12 http://archive.ubuntu.com/ubuntu bionic-backports InRelease [74.6 kB]\n",
            "Hit:13 http://ppa.launchpad.net/graphics-drivers/ppa/ubuntu bionic InRelease\n",
            "Fetched 252 kB in 3s (89.7 kB/s)\n",
            "Reading package lists... Done\n"
          ]
        }
      ]
    },
    {
      "cell_type": "code",
      "source": [
        "# Download the Postgres driver that will allow Spark to interact with Postgres.\n",
        "!wget https://jdbc.postgresql.org/download/postgresql-42.2.9.jar"
      ],
      "metadata": {
        "colab": {
          "base_uri": "https://localhost:8080/"
        },
        "id": "dwWkmqD7eUSX",
        "outputId": "abb1d404-e301-44bf-9b00-28a2f7e076f4"
      },
      "execution_count": null,
      "outputs": [
        {
          "output_type": "stream",
          "name": "stdout",
          "text": [
            "--2022-06-08 23:20:43--  https://jdbc.postgresql.org/download/postgresql-42.2.9.jar\n",
            "Resolving jdbc.postgresql.org (jdbc.postgresql.org)... 72.32.157.228, 2001:4800:3e1:1::228\n",
            "Connecting to jdbc.postgresql.org (jdbc.postgresql.org)|72.32.157.228|:443... connected.\n",
            "HTTP request sent, awaiting response... 200 OK\n",
            "Length: 914037 (893K) [application/java-archive]\n",
            "Saving to: ‘postgresql-42.2.9.jar.1’\n",
            "\n",
            "postgresql-42.2.9.j 100%[===================>] 892.61K  1.11MB/s    in 0.8s    \n",
            "\n",
            "2022-06-08 23:20:44 (1.11 MB/s) - ‘postgresql-42.2.9.jar.1’ saved [914037/914037]\n",
            "\n"
          ]
        }
      ]
    },
    {
      "cell_type": "code",
      "source": [
        "!pip install pyspark"
      ],
      "metadata": {
        "colab": {
          "base_uri": "https://localhost:8080/"
        },
        "id": "W4vu5O1nj4si",
        "outputId": "b2396f2a-8f1f-4704-833e-6e7815fe3ac2"
      },
      "execution_count": null,
      "outputs": [
        {
          "output_type": "stream",
          "name": "stdout",
          "text": [
            "Looking in indexes: https://pypi.org/simple, https://us-python.pkg.dev/colab-wheels/public/simple/\n",
            "Requirement already satisfied: pyspark in /usr/local/lib/python3.7/dist-packages (3.2.1)\n",
            "Requirement already satisfied: py4j==0.10.9.3 in /usr/local/lib/python3.7/dist-packages (from pyspark) (0.10.9.3)\n"
          ]
        }
      ]
    },
    {
      "cell_type": "code",
      "source": [
        "from pyspark.sql import SparkSession\n",
        "spark = SparkSession.builder.appName(\"CloudETL\").config(\"spark.driver.extraClassPath\",\"/content/postgresql-42.2.9.jar\").getOrCreate()"
      ],
      "metadata": {
        "id": "Sqv3udCWeW_E"
      },
      "execution_count": null,
      "outputs": []
    },
    {
      "cell_type": "code",
      "source": [
        "# Read in data from S3 Buckets\n",
        "from pyspark import SparkFiles\n",
        "url=\"https://my-s3-bucket-sp.s3.amazonaws.com/vine_table.csv\"\n",
        "spark.sparkContext.addFile(url)\n",
        "vine_table_df = spark.read.csv(SparkFiles.get(\"vine_table.csv\"), header=True, inferSchema=True)"
      ],
      "metadata": {
        "id": "G-Ll0igFeZKk"
      },
      "execution_count": null,
      "outputs": []
    },
    {
      "cell_type": "code",
      "source": [
        "# Read in the vine_table.csv file as a DataFrame\n",
        "vine_table_df.show()"
      ],
      "metadata": {
        "colab": {
          "base_uri": "https://localhost:8080/"
        },
        "id": "H6T8fzZuoA5v",
        "outputId": "ed779ed4-ffc6-4d21-9d9d-70b1b7c331b0"
      },
      "execution_count": null,
      "outputs": [
        {
          "output_type": "stream",
          "name": "stdout",
          "text": [
            "+--------------+-----------+-------------+-----------+----+-----------------+\n",
            "|     review_id|star_rating|helpful_votes|total_votes|vine|verified_purchase|\n",
            "+--------------+-----------+-------------+-----------+----+-----------------+\n",
            "| REAKC26P07MDN|          5|            0|          0|   N|                Y|\n",
            "|R3NU7OMZ4HQIEG|          2|            0|          1|   N|                Y|\n",
            "|R14QJW3XF8QO1P|          5|            0|          0|   N|                Y|\n",
            "|R2HB7AX0394ZGY|          5|            0|          0|   N|                Y|\n",
            "| RGKMPDQGSAHR3|          5|            0|          0|   N|                Y|\n",
            "|R1DJCVPQGCV66E|          5|            0|          0|   N|                Y|\n",
            "|R3V52EAWLPBFQG|          3|            0|          0|   N|                Y|\n",
            "|R3DKO8J1J28QBI|          2|            0|          0|   N|                Y|\n",
            "| R764DBXGRNECG|          5|            1|          1|   N|                N|\n",
            "| RW1853GAT0Z9F|          5|            0|          0|   N|                Y|\n",
            "|R33GITXNUF1AD4|          2|            0|          0|   N|                Y|\n",
            "|R1H7AVM81TAYRV|          1|            2|          2|   N|                Y|\n",
            "|R2ZOYAQZNNZZWV|          5|            0|          0|   N|                Y|\n",
            "|R2FN1H3CGW6J8H|          1|            0|          0|   N|                Y|\n",
            "| RJB41Q575XNG4|          5|            0|          3|   N|                Y|\n",
            "|R28W8BM1587CPF|          5|            0|          0|   N|                Y|\n",
            "|R1II0M01NIG293|          2|            0|          0|   N|                N|\n",
            "| RMB8N0DBRH34O|          5|            1|          1|   N|                Y|\n",
            "|R24WB6A6WVIPU6|          5|            0|          0|   N|                Y|\n",
            "| ROCJSH0P9YSRW|          5|            0|          0|   N|                Y|\n",
            "+--------------+-----------+-------------+-----------+----+-----------------+\n",
            "only showing top 20 rows\n",
            "\n"
          ]
        }
      ]
    },
    {
      "cell_type": "code",
      "source": [
        "# 1. Filter the data and create a new DataFrame to retrieve all the rows where\n",
        "# the total_votes count is equal to or greater than 20\n",
        "clean_vine_df = vine_table_df.filter(\"total_votes >= 20\")\n",
        "clean_vine_df.show(truncate=False)"
      ],
      "metadata": {
        "id": "_6OZmmr1XWtq",
        "colab": {
          "base_uri": "https://localhost:8080/"
        },
        "outputId": "d4904b78-5b52-408c-89fc-3683e3fc4e99"
      },
      "execution_count": null,
      "outputs": [
        {
          "output_type": "stream",
          "name": "stdout",
          "text": [
            "+--------------+-----------+-------------+-----------+----+-----------------+\n",
            "|review_id     |star_rating|helpful_votes|total_votes|vine|verified_purchase|\n",
            "+--------------+-----------+-------------+-----------+----+-----------------+\n",
            "|R21KC552Y6HL8X|1          |27           |31         |N   |Y                |\n",
            "|RX9WC9FTIR1XR |5          |25           |25         |N   |Y                |\n",
            "|RGDCOU1KBHMNG |3          |29           |31         |N   |Y                |\n",
            "|RVTYWID2TPMMY |2          |35           |42         |N   |Y                |\n",
            "|R2CMPZ5VESGRLY|4          |27           |28         |N   |Y                |\n",
            "|R3VQPJZ54B55BA|5          |62           |64         |N   |N                |\n",
            "|R24QM6D7FEDZ5M|2          |36           |43         |N   |Y                |\n",
            "|R3A1VQ3SQDXEJ3|5          |20           |20         |N   |Y                |\n",
            "|R39GSNW76GYF  |1          |20           |23         |N   |Y                |\n",
            "|RPJLR6MFDPXXE |5          |35           |36         |N   |Y                |\n",
            "|R34X0ZGVB3YGYO|5          |47           |47         |N   |Y                |\n",
            "|R2C9O1BOV14Q0Z|1          |62           |79         |N   |Y                |\n",
            "|RM6ZH5J3XDNHK |5          |79           |87         |N   |Y                |\n",
            "|R2E363K75EMW4K|5          |66           |69         |N   |Y                |\n",
            "|R2VJII8VKSJHDF|1          |24           |29         |N   |N                |\n",
            "|R2U35Y2P27M13E|1          |43           |45         |N   |Y                |\n",
            "|RLMZOQL11VHBX |5          |23           |24         |N   |Y                |\n",
            "|R3C6CQQRRA8SYP|5          |52           |58         |N   |Y                |\n",
            "|R3T7YOX0AEDZL3|1          |45           |47         |N   |N                |\n",
            "|R176V3AYS3R4HG|5          |26           |27         |N   |N                |\n",
            "+--------------+-----------+-------------+-----------+----+-----------------+\n",
            "only showing top 20 rows\n",
            "\n"
          ]
        }
      ]
    },
    {
      "cell_type": "code",
      "source": [
        "# 2. Filter the new DataFrame created in Step 1 and create a new DataFrame\n",
        "# to retrieve all the rows where the number of helpful_votes divided by \n",
        "# total_votes is equal to or greater than 50%.\n",
        "clean_vine_df = vine_table_df.filter(\"(helpful_votes/total_votes) >= 0.5\")\n",
        "clean_vine_df.show(truncate=False)"
      ],
      "metadata": {
        "id": "8goD45KMXv4s",
        "colab": {
          "base_uri": "https://localhost:8080/"
        },
        "outputId": "0fe1ca48-840e-46d7-e239-31cd9cfd71e6"
      },
      "execution_count": null,
      "outputs": [
        {
          "output_type": "stream",
          "name": "stdout",
          "text": [
            "+--------------+-----------+-------------+-----------+----+-----------------+\n",
            "|review_id     |star_rating|helpful_votes|total_votes|vine|verified_purchase|\n",
            "+--------------+-----------+-------------+-----------+----+-----------------+\n",
            "|R764DBXGRNECG |5          |1            |1          |N   |N                |\n",
            "|R1H7AVM81TAYRV|1          |2            |2          |N   |Y                |\n",
            "|RMB8N0DBRH34O |5          |1            |1          |N   |Y                |\n",
            "|RLR047V0C09SG |5          |1            |1          |N   |Y                |\n",
            "|R2D06CYY6KZSJ0|2          |16           |19         |N   |Y                |\n",
            "|R2P2G1XUTS2UI1|5          |8            |8          |N   |Y                |\n",
            "|R2E9I9L1DXK7U8|5          |10           |10         |N   |Y                |\n",
            "|ROPI31U4NHTB  |2          |1            |1          |N   |Y                |\n",
            "|R2EDA9TQWM5LOW|5          |1            |1          |N   |Y                |\n",
            "|RBJ69AC0G5A5R |5          |1            |1          |N   |Y                |\n",
            "|R3K2WKNT0S6CX3|5          |1            |1          |N   |Y                |\n",
            "|R32UT59G2WIWSY|5          |5            |5          |N   |Y                |\n",
            "|R3H8DF3VANSV2P|3          |1            |1          |N   |Y                |\n",
            "|RS034OZJQ89I9 |1          |1            |1          |N   |Y                |\n",
            "|R1BGQFB99W61JM|5          |3            |3          |N   |Y                |\n",
            "|R20H5BWO71K33G|3          |1            |1          |N   |Y                |\n",
            "|RT0UQXBO40MI5 |5          |6            |6          |N   |Y                |\n",
            "|R2R4LVTUFXINBO|5          |1            |1          |N   |Y                |\n",
            "|R2LREMQJN3A8IZ|5          |1            |1          |N   |Y                |\n",
            "|R3GOPEOBBS8Z6B|5          |1            |1          |N   |Y                |\n",
            "+--------------+-----------+-------------+-----------+----+-----------------+\n",
            "only showing top 20 rows\n",
            "\n"
          ]
        }
      ]
    },
    {
      "cell_type": "code",
      "source": [
        "# 3. Filter the DataFrame created in Step 2, \n",
        "# and create a new DataFrame that retrieves all the rows \n",
        "# where a review was written as part of the Vine program (paid), vine == 'Y'.\n",
        "vine_reviews_df = vine_table_df.filter('vine == \"Y\"')\n",
        "vine_reviews_df.show(truncate=False)"
      ],
      "metadata": {
        "id": "KUnxJN9sRvkB",
        "colab": {
          "base_uri": "https://localhost:8080/"
        },
        "outputId": "6ccf169c-fbd2-4845-ae90-23a6a4be7fe9"
      },
      "execution_count": null,
      "outputs": [
        {
          "output_type": "stream",
          "name": "stdout",
          "text": [
            "+--------------+-----------+-------------+-----------+----+-----------------+\n",
            "|review_id     |star_rating|helpful_votes|total_votes|vine|verified_purchase|\n",
            "+--------------+-----------+-------------+-----------+----+-----------------+\n",
            "|R1CBOJMJAYL75C|5          |0            |0          |Y   |N                |\n",
            "|R37IHP001XZVR |5          |0            |1          |Y   |N                |\n",
            "|R175KT8QHRRK2G|4          |0            |1          |Y   |N                |\n",
            "|RNWWD2B3X0CU2 |5          |0            |0          |Y   |N                |\n",
            "|R2FDITZFABSUN8|3          |0            |1          |Y   |N                |\n",
            "|R9WD02GLN4A35 |5          |7            |8          |Y   |N                |\n",
            "|RMGB3SAPBORMY |5          |0            |0          |Y   |N                |\n",
            "|R3V4XNC741N9XW|4          |0            |0          |Y   |N                |\n",
            "|RS4W1GEFFRXTX |5          |0            |0          |Y   |N                |\n",
            "|RS3X4WLXNYT6B |5          |0            |0          |Y   |N                |\n",
            "|R19MJ8BUP9X2N3|3          |0            |0          |Y   |N                |\n",
            "|R10A8UNLH0KARF|3          |1            |1          |Y   |N                |\n",
            "|R3M4YYUXIJ6XMF|4          |2            |2          |Y   |N                |\n",
            "|R22RZB3DND8XJO|4          |1            |1          |Y   |N                |\n",
            "|R20WIW3ECGT9UH|3          |0            |0          |Y   |N                |\n",
            "|R3088Y79R8853J|3          |0            |0          |Y   |N                |\n",
            "|R1VGFT3XPH9HP1|2          |0            |1          |Y   |N                |\n",
            "|RBDN75GU7P5XD |4          |0            |0          |Y   |N                |\n",
            "|R11ZDCL8R5HKIG|3          |0            |0          |Y   |N                |\n",
            "|R6PROVFEGSNRK |3          |1            |1          |Y   |N                |\n",
            "+--------------+-----------+-------------+-----------+----+-----------------+\n",
            "only showing top 20 rows\n",
            "\n"
          ]
        }
      ]
    },
    {
      "cell_type": "code",
      "source": [
        "# 4. Retrieve all the rows where the review was not part of the Vine \n",
        "# program (unpaid), vine == 'N'.\n",
        "non_vine_df = vine_table_df.filter('vine == \"N\"')\n",
        "non_vine_df.show(truncate=False)"
      ],
      "metadata": {
        "id": "OkR4uRcTR6Oz",
        "colab": {
          "base_uri": "https://localhost:8080/"
        },
        "outputId": "39934f27-a045-4d9d-e6de-cc008df97067"
      },
      "execution_count": null,
      "outputs": [
        {
          "output_type": "stream",
          "name": "stdout",
          "text": [
            "+--------------+-----------+-------------+-----------+----+-----------------+\n",
            "|review_id     |star_rating|helpful_votes|total_votes|vine|verified_purchase|\n",
            "+--------------+-----------+-------------+-----------+----+-----------------+\n",
            "|REAKC26P07MDN |5          |0            |0          |N   |Y                |\n",
            "|R3NU7OMZ4HQIEG|2          |0            |1          |N   |Y                |\n",
            "|R14QJW3XF8QO1P|5          |0            |0          |N   |Y                |\n",
            "|R2HB7AX0394ZGY|5          |0            |0          |N   |Y                |\n",
            "|RGKMPDQGSAHR3 |5          |0            |0          |N   |Y                |\n",
            "|R1DJCVPQGCV66E|5          |0            |0          |N   |Y                |\n",
            "|R3V52EAWLPBFQG|3          |0            |0          |N   |Y                |\n",
            "|R3DKO8J1J28QBI|2          |0            |0          |N   |Y                |\n",
            "|R764DBXGRNECG |5          |1            |1          |N   |N                |\n",
            "|RW1853GAT0Z9F |5          |0            |0          |N   |Y                |\n",
            "|R33GITXNUF1AD4|2          |0            |0          |N   |Y                |\n",
            "|R1H7AVM81TAYRV|1          |2            |2          |N   |Y                |\n",
            "|R2ZOYAQZNNZZWV|5          |0            |0          |N   |Y                |\n",
            "|R2FN1H3CGW6J8H|1          |0            |0          |N   |Y                |\n",
            "|RJB41Q575XNG4 |5          |0            |3          |N   |Y                |\n",
            "|R28W8BM1587CPF|5          |0            |0          |N   |Y                |\n",
            "|R1II0M01NIG293|2          |0            |0          |N   |N                |\n",
            "|RMB8N0DBRH34O |5          |1            |1          |N   |Y                |\n",
            "|R24WB6A6WVIPU6|5          |0            |0          |N   |Y                |\n",
            "|ROCJSH0P9YSRW |5          |0            |0          |N   |Y                |\n",
            "+--------------+-----------+-------------+-----------+----+-----------------+\n",
            "only showing top 20 rows\n",
            "\n"
          ]
        }
      ]
    },
    {
      "cell_type": "code",
      "source": [
        "# 5a. Determine the total number of reviews for paid vs. unpaid\n",
        "v_count = vine_reviews_df.count()\n",
        "v_count"
      ],
      "metadata": {
        "id": "jY5iXmUIR_gi",
        "colab": {
          "base_uri": "https://localhost:8080/"
        },
        "outputId": "9946729f-612a-4b00-8f51-6325d94a039e"
      },
      "execution_count": null,
      "outputs": [
        {
          "output_type": "execute_result",
          "data": {
            "text/plain": [
              "10215"
            ]
          },
          "metadata": {},
          "execution_count": 61
        }
      ]
    },
    {
      "cell_type": "code",
      "source": [
        "nv_count = non_vine_df.count()\n",
        "nv_count"
      ],
      "metadata": {
        "colab": {
          "base_uri": "https://localhost:8080/"
        },
        "id": "HMssyRcfqQaM",
        "outputId": "a68f6481-3383-4c8c-b1db-06a502ca38b2"
      },
      "execution_count": null,
      "outputs": [
        {
          "output_type": "execute_result",
          "data": {
            "text/plain": [
              "2633399"
            ]
          },
          "metadata": {},
          "execution_count": 62
        }
      ]
    },
    {
      "cell_type": "code",
      "source": [
        "# 5b. Determine the number of 5-star reviews for paid vs. unpaid\n",
        "best_vine_df = vine_reviews_df.filter(vine_reviews_df.star_rating == 5)\n",
        "best_vine_df.show()"
      ],
      "metadata": {
        "colab": {
          "base_uri": "https://localhost:8080/"
        },
        "id": "MhyI-hgjqLkK",
        "outputId": "50d86008-6b25-4684-b884-1b130ebaf78c"
      },
      "execution_count": null,
      "outputs": [
        {
          "output_type": "stream",
          "name": "stdout",
          "text": [
            "+--------------+-----------+-------------+-----------+----+-----------------+\n",
            "|     review_id|star_rating|helpful_votes|total_votes|vine|verified_purchase|\n",
            "+--------------+-----------+-------------+-----------+----+-----------------+\n",
            "|R1CBOJMJAYL75C|          5|            0|          0|   Y|                N|\n",
            "| R37IHP001XZVR|          5|            0|          1|   Y|                N|\n",
            "| RNWWD2B3X0CU2|          5|            0|          0|   Y|                N|\n",
            "| R9WD02GLN4A35|          5|            7|          8|   Y|                N|\n",
            "| RMGB3SAPBORMY|          5|            0|          0|   Y|                N|\n",
            "| RS4W1GEFFRXTX|          5|            0|          0|   Y|                N|\n",
            "| RS3X4WLXNYT6B|          5|            0|          0|   Y|                N|\n",
            "|R2VT6HPTNONELB|          5|            0|          0|   Y|                N|\n",
            "|R3RO9RPS35AE1Z|          5|            0|          1|   Y|                N|\n",
            "| RMGKA8XODWN6D|          5|            0|          0|   Y|                Y|\n",
            "| RYVR28GFFVAVB|          5|            5|          6|   Y|                N|\n",
            "| RBAUDWQTNKIL9|          5|            0|          0|   Y|                N|\n",
            "|R16OMUJIGI18JZ|          5|           72|         72|   Y|                N|\n",
            "|R16GJ8XG4TN5LB|          5|            0|          0|   Y|                N|\n",
            "| RXMZ8DCUWGS3U|          5|            0|          1|   Y|                N|\n",
            "|R1HBVWV7SWJ5D8|          5|            1|          1|   Y|                N|\n",
            "|R3DCAVY4VV8Z0J|          5|            0|          0|   Y|                N|\n",
            "|R3RLGZLLIH383E|          5|            0|          0|   Y|                N|\n",
            "| RVDJDMLJBR0DE|          5|            0|          0|   Y|                N|\n",
            "|R1N5WYYW567USH|          5|            0|          0|   Y|                N|\n",
            "+--------------+-----------+-------------+-----------+----+-----------------+\n",
            "only showing top 20 rows\n",
            "\n"
          ]
        }
      ]
    },
    {
      "cell_type": "code",
      "source": [
        "best_v = best_vine_df.count()\n",
        "best_v"
      ],
      "metadata": {
        "colab": {
          "base_uri": "https://localhost:8080/"
        },
        "id": "3fpPVhjMsq7N",
        "outputId": "462ec2b7-05fe-4378-86ac-cb1cfa883e73"
      },
      "execution_count": null,
      "outputs": [
        {
          "output_type": "execute_result",
          "data": {
            "text/plain": [
              "4343"
            ]
          },
          "metadata": {},
          "execution_count": 63
        }
      ]
    },
    {
      "cell_type": "code",
      "source": [
        "best_non_vine_df = non_vine_df.filter(non_vine_df.star_rating == 5)\n",
        "best_non_vine_df.show()"
      ],
      "metadata": {
        "colab": {
          "base_uri": "https://localhost:8080/"
        },
        "id": "v5o4nhj-ru1s",
        "outputId": "76f803c4-36ac-4cf9-902e-f3a9a7630ff6"
      },
      "execution_count": null,
      "outputs": [
        {
          "output_type": "stream",
          "name": "stdout",
          "text": [
            "+--------------+-----------+-------------+-----------+----+-----------------+\n",
            "|     review_id|star_rating|helpful_votes|total_votes|vine|verified_purchase|\n",
            "+--------------+-----------+-------------+-----------+----+-----------------+\n",
            "| REAKC26P07MDN|          5|            0|          0|   N|                Y|\n",
            "|R14QJW3XF8QO1P|          5|            0|          0|   N|                Y|\n",
            "|R2HB7AX0394ZGY|          5|            0|          0|   N|                Y|\n",
            "| RGKMPDQGSAHR3|          5|            0|          0|   N|                Y|\n",
            "|R1DJCVPQGCV66E|          5|            0|          0|   N|                Y|\n",
            "| R764DBXGRNECG|          5|            1|          1|   N|                N|\n",
            "| RW1853GAT0Z9F|          5|            0|          0|   N|                Y|\n",
            "|R2ZOYAQZNNZZWV|          5|            0|          0|   N|                Y|\n",
            "| RJB41Q575XNG4|          5|            0|          3|   N|                Y|\n",
            "|R28W8BM1587CPF|          5|            0|          0|   N|                Y|\n",
            "| RMB8N0DBRH34O|          5|            1|          1|   N|                Y|\n",
            "|R24WB6A6WVIPU6|          5|            0|          0|   N|                Y|\n",
            "| ROCJSH0P9YSRW|          5|            0|          0|   N|                Y|\n",
            "|R3VERG76ZFGP39|          5|            0|          0|   N|                Y|\n",
            "|R38AKXOOCG6OA6|          5|            0|          0|   N|                Y|\n",
            "| RK0M6SKJVESSX|          5|            0|          0|   N|                Y|\n",
            "| R73MFHXSR2WJ6|          5|            0|          0|   N|                Y|\n",
            "|R3G0P137V9BYYL|          5|            0|          0|   N|                Y|\n",
            "|R30CQDOA5JA7TB|          5|            0|          0|   N|                Y|\n",
            "| RLR047V0C09SG|          5|            1|          1|   N|                Y|\n",
            "+--------------+-----------+-------------+-----------+----+-----------------+\n",
            "only showing top 20 rows\n",
            "\n"
          ]
        }
      ]
    },
    {
      "cell_type": "code",
      "source": [
        "best_n = best_non_vine_df.count()\n",
        "best_n "
      ],
      "metadata": {
        "colab": {
          "base_uri": "https://localhost:8080/"
        },
        "id": "C2HfuuL0rYlD",
        "outputId": "e3d583ac-43c4-473e-8f0d-fa929795a14f"
      },
      "execution_count": null,
      "outputs": [
        {
          "output_type": "execute_result",
          "data": {
            "text/plain": [
              "1641210"
            ]
          },
          "metadata": {},
          "execution_count": 64
        }
      ]
    },
    {
      "cell_type": "code",
      "source": [
        "# Total 5-star reviews\n",
        "total_5star = v + n "
      ],
      "metadata": {
        "id": "ek4Wqq9zqcfl"
      },
      "execution_count": null,
      "outputs": []
    },
    {
      "cell_type": "code",
      "source": [
        "# 5c. Determine the percentage of 5-star reviews for the two types of review (paid vs unpaid)\n",
        "percent_vine = (v/total_5star) * 100\n",
        "percent_vine "
      ],
      "metadata": {
        "colab": {
          "base_uri": "https://localhost:8080/"
        },
        "id": "qBXzRl_cp-at",
        "outputId": "a1d24b30-3edf-4c3b-fd85-bc04c331e0f3"
      },
      "execution_count": null,
      "outputs": [
        {
          "output_type": "execute_result",
          "data": {
            "text/plain": [
              "0.2639234348574613"
            ]
          },
          "metadata": {},
          "execution_count": 52
        }
      ]
    },
    {
      "cell_type": "code",
      "source": [
        "percent_non_vine = (n/total_5star) * 100\n",
        "percent_non_vine "
      ],
      "metadata": {
        "colab": {
          "base_uri": "https://localhost:8080/"
        },
        "id": "Wlpd_Tb8rTsx",
        "outputId": "d0134344-33a4-48ac-d572-3b7f4ef0b0df"
      },
      "execution_count": null,
      "outputs": [
        {
          "output_type": "execute_result",
          "data": {
            "text/plain": [
              "99.73607656514254"
            ]
          },
          "metadata": {},
          "execution_count": 51
        }
      ]
    },
    {
      "cell_type": "code",
      "source": [
        "v_5star_percentage = (best_v/v_count) * 100 \n",
        "v_5star_percentage"
      ],
      "metadata": {
        "colab": {
          "base_uri": "https://localhost:8080/"
        },
        "id": "mzK3aMLAvSbw",
        "outputId": "a6b29aea-1359-412d-b6db-9e5648fa36ce"
      },
      "execution_count": null,
      "outputs": [
        {
          "output_type": "execute_result",
          "data": {
            "text/plain": [
              "42.51590797846305"
            ]
          },
          "metadata": {},
          "execution_count": 67
        }
      ]
    },
    {
      "cell_type": "code",
      "source": [
        "nv_5star_percentage = (best_n/nv_count) * 100 \n",
        "nv_5star_percentage"
      ],
      "metadata": {
        "colab": {
          "base_uri": "https://localhost:8080/"
        },
        "id": "Iao3JxFrwFlG",
        "outputId": "17e50c47-ffe2-47bc-f332-32e8b3dbc156"
      },
      "execution_count": null,
      "outputs": [
        {
          "output_type": "execute_result",
          "data": {
            "text/plain": [
              "62.32287625232637"
            ]
          },
          "metadata": {},
          "execution_count": 68
        }
      ]
    }
  ]
}